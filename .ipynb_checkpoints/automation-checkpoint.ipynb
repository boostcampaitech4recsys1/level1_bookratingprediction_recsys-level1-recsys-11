{
 "cells": [
  {
   "cell_type": "code",
   "execution_count": 2,
   "id": "8d0aa0ee-0856-4abe-a6c3-df9d53ce8f17",
   "metadata": {},
   "outputs": [
    {
     "ename": "SyntaxError",
     "evalue": "invalid syntax (2448446931.py, line 1)",
     "output_type": "error",
     "traceback": [
      "\u001b[0;36m  Cell \u001b[0;32mIn [2], line 1\u001b[0;36m\u001b[0m\n\u001b[0;31m    $ cat log.txt | grep rmse: > tt.txt\u001b[0m\n\u001b[0m    ^\u001b[0m\n\u001b[0;31mSyntaxError\u001b[0m\u001b[0;31m:\u001b[0m invalid syntax\n"
     ]
    }
   ],
   "source": [
    "$ cat log.txt | grep rmse: > tt.txt"
   ]
  },
  {
   "cell_type": "code",
   "execution_count": 1,
   "id": "c2441e4f-1881-4378-8c63-c5864f40b06b",
   "metadata": {},
   "outputs": [],
   "source": [
    "with open('tt.txt', 'r') as f:\n",
    "    with open('rr.txt', 'w') as f2:\n",
    "        for u in range(1, 10):\n",
    "            for b in range(1, 13):\n",
    "                line = f.readline()\n",
    "                us = format(u, '02')\n",
    "                bs = format(b, '02')\n",
    "                f2.write(f'u{us}_b{bs}, ' + line.strip()[line.find('v'):] +'\\n')"
   ]
  },
  {
   "cell_type": "code",
   "execution_count": null,
   "id": "c40b9c4a-58ac-41e9-91e4-9071ade12fa2",
   "metadata": {},
   "outputs": [],
   "source": []
  }
 ],
 "metadata": {
  "kernelspec": {
   "display_name": "Python 3 (ipykernel)",
   "language": "python",
   "name": "python3"
  },
  "language_info": {
   "codemirror_mode": {
    "name": "ipython",
    "version": 3
   },
   "file_extension": ".py",
   "mimetype": "text/x-python",
   "name": "python",
   "nbconvert_exporter": "python",
   "pygments_lexer": "ipython3",
   "version": "3.8.5"
  }
 },
 "nbformat": 4,
 "nbformat_minor": 5
}
